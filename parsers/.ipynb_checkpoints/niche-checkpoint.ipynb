{
 "cells": [
  {
   "cell_type": "code",
   "execution_count": 1,
   "metadata": {
    "collapsed": true
   },
   "outputs": [],
   "source": [
    "from urllib.request import urlopen  # Library for urlopen\n",
    "from bs4 import BeautifulSoup  # Library for html parser (scraper), lxml is also nice\n",
    "import pandas as pd\n",
    "import numpy as np\n",
    "import re\n",
    "import sys\n",
    "sys.path.append('..') \n",
    "from uni_cache.cache_function import cache_function\n",
    "import pymysql\n",
    "import collections\n",
    "import mysql_credits"
   ]
  },
  {
   "cell_type": "code",
   "execution_count": 2,
   "metadata": {},
   "outputs": [],
   "source": [
    "import selenium\n",
    "from selenium import webdriver\n",
    "from selenium.webdriver.common.keys import Keys\n",
    "from time import sleep\n",
    "from selenium.webdriver.support import expected_conditions as EC\n",
    "from selenium.webdriver.common.by import By\n",
    "from selenium.webdriver.support.ui import WebDriverWait\n",
    "from selenium.webdriver.support.ui import Select\n",
    "from datetime import datetime, timedelta\n",
    "from pyvirtualdisplay import Display\n",
    "from selenium.webdriver.chrome.options import Options"
   ]
  },
  {
   "cell_type": "code",
   "execution_count": 3,
   "metadata": {
    "collapsed": true
   },
   "outputs": [],
   "source": [
    "import time\n",
    "from selenium.webdriver.support.ui import Select"
   ]
  },
  {
   "cell_type": "code",
   "execution_count": 4,
   "metadata": {
    "collapsed": true
   },
   "outputs": [],
   "source": [
    "# This folder should be edited according to this project path on yours computer\n",
    "project_folder = '/home/bogdan/PycharmProjects/universities_sentiment/'\n",
    "cache_folder = project_folder + 'cache/'\n",
    "#site = 'https://www.studentsreview.com/CA/CIT_comments.html'\n",
    "\n",
    "\n",
    "connection = pymysql.connect(\n",
    "    host=mysql_credits.db_host,\n",
    "    user=mysql_credits.db_user,\n",
    "    password=mysql_credits.db_password,\n",
    "    db=mysql_credits.db,\n",
    "    charset='utf8mb4',\n",
    "    cursorclass=pymysql.cursors.DictCursor\n",
    ")\n"
   ]
  },
  {
   "cell_type": "markdown",
   "metadata": {},
   "source": [
    "cursor = connection.cursor()"
   ]
  },
  {
   "cell_type": "markdown",
   "metadata": {},
   "source": [
    "sql='''\n",
    "select article_categories\n",
    "from article\n",
    "WHERE (article_rating>0)\n",
    "'''"
   ]
  },
  {
   "cell_type": "markdown",
   "metadata": {},
   "source": [
    "cursor.execute(sql)\n",
    "\n",
    "raw = cursor.fetchall()\n",
    "\n",
    "df = pd.DataFrame(raw, columns=[i[0] for i in cursor.description])"
   ]
  },
  {
   "cell_type": "markdown",
   "metadata": {},
   "source": [
    "display = Display(visible=0, size=(800, 600))\n",
    "display.start()"
   ]
  },
  {
   "cell_type": "markdown",
   "metadata": {},
   "source": [
    "chrome_options = Options()\n",
    "chrome_options.add_argument(\"--no-startup-window\")"
   ]
  },
  {
   "cell_type": "code",
   "execution_count": 5,
   "metadata": {
    "collapsed": true
   },
   "outputs": [],
   "source": [
    "browser = webdriver.Chrome(executable_path=\"..\\\\chromedriver.exe\")"
   ]
  },
  {
   "cell_type": "markdown",
   "metadata": {},
   "source": [
    "url = \"https://www.niche.com/colleges/stanford-university/reviews/\"\n",
    "browser.get(url)\n",
    "site_bs= BeautifulSoup(browser.page_source, \"html.parser\")"
   ]
  },
  {
   "cell_type": "markdown",
   "metadata": {
    "collapsed": true
   },
   "source": [
    "browser.find_element_by_css_selector('.icon-arrowright-thin--pagination').click()"
   ]
  },
  {
   "cell_type": "code",
   "execution_count": 6,
   "metadata": {
    "collapsed": true
   },
   "outputs": [],
   "source": [
    "main_site='https://www.niche.com/colleges/search/best-colleges/'  #?page=1'"
   ]
  },
  {
   "cell_type": "code",
   "execution_count": 26,
   "metadata": {
    "scrolled": false
   },
   "outputs": [
    {
     "name": "stdout",
     "output_type": "stream",
     "text": [
      "Using web page from cache...\n",
      "Using web page from internet...\n",
      "Using web page from internet...\n",
      "Using web page from internet...\n",
      "Using web page from internet...\n",
      "Using web page from internet...\n",
      "Using web page from internet...\n",
      "Using web page from internet...\n",
      "Using web page from internet...\n",
      "Using web page from internet...\n",
      "Using web page from internet...\n",
      "Using web page from internet...\n",
      "Using web page from internet...\n",
      "Using web page from internet...\n",
      "Using web page from internet...\n",
      "Using web page from internet...\n",
      "Using web page from internet...\n",
      "Using web page from internet...\n",
      "Using web page from internet...\n",
      "Using web page from internet...\n"
     ]
    }
   ],
   "source": [
    "#Take omy fisrt 500th universities (25 per page)\n",
    "site_links=[]\n",
    "for page in range(1,21):\n",
    "    page_site=main_site+'?page='+str(page)\n",
    "    page_site_cache = cache_function(page_site)\n",
    "    #browser.get(page_site)\n",
    "    site_bs= BeautifulSoup(page_site_cache, \"html.parser\")\n",
    "    link_uni=site_bs.find_all('a', attrs={\"class\":\"search-result__link\"})\n",
    "    for link in link_uni:\n",
    "        site_links.append(link.attrs['href'])\n",
    "    #site_links.append(site_bs.find_all('h2', attrs={\"class\":\"search-result__link\"}).get_text())"
   ]
  },
  {
   "cell_type": "code",
   "execution_count": 8,
   "metadata": {
    "collapsed": true
   },
   "outputs": [],
   "source": [
    "from selenium.webdriver.support.ui import Select"
   ]
  },
  {
   "cell_type": "code",
   "execution_count": 9,
   "metadata": {
    "collapsed": true
   },
   "outputs": [],
   "source": [
    "categories=[\"Academics\", \"Overall Experience\",\"Value\"]"
   ]
  },
  {
   "cell_type": "code",
   "execution_count": 50,
   "metadata": {
    "collapsed": true
   },
   "outputs": [],
   "source": [
    "text='''Financial Aid is awesome. The only person I know with a problem has issues because her Dad died in high school and things with insurance are crazy, but she talked with financial aid and they figured out a way for her to be able to stay here without too much in loans. I am frickin broke and I get to live more or less the same way as the super rich people do. Pretty awesome!\n",
    "'''"
   ]
  },
  {
   "cell_type": "code",
   "execution_count": 10,
   "metadata": {
    "collapsed": true
   },
   "outputs": [],
   "source": [
    "import time"
   ]
  },
  {
   "cell_type": "code",
   "execution_count": 11,
   "metadata": {
    "collapsed": true
   },
   "outputs": [],
   "source": [
    "import string"
   ]
  },
  {
   "cell_type": "code",
   "execution_count": 12,
   "metadata": {},
   "outputs": [
    {
     "data": {
      "text/plain": [
       "'!\"#$%&\\'()*+,-./:;<=>?@[\\\\]^_`{|}~'"
      ]
     },
     "execution_count": 12,
     "metadata": {},
     "output_type": "execute_result"
    }
   ],
   "source": [
    "string.punctuation"
   ]
  },
  {
   "cell_type": "code",
   "execution_count": 13,
   "metadata": {
    "collapsed": true
   },
   "outputs": [],
   "source": [
    "import json"
   ]
  },
  {
   "cell_type": "code",
   "execution_count": 14,
   "metadata": {
    "collapsed": true
   },
   "outputs": [],
   "source": [
    "#sentences = [re.sub('([,.!]){1,}', '', sentence).strip() for sentence in sentence_list]"
   ]
  },
  {
   "cell_type": "code",
   "execution_count": 17,
   "metadata": {},
   "outputs": [
    {
     "data": {
      "text/plain": [
       "['While some classes are large and impersonal, those classes always have TAs that are devoted and sections that are small.',\n",
       " 'Professors are world class, though not always world class teachers.']"
      ]
     },
     "execution_count": 17,
     "metadata": {},
     "output_type": "execute_result"
    }
   ],
   "source": [
    "article_title"
   ]
  },
  {
   "cell_type": "code",
   "execution_count": 21,
   "metadata": {},
   "outputs": [
    {
     "name": "stdout",
     "output_type": "stream",
     "text": [
      "https://www.niche.com/colleges/princeton-university/reviews/\n"
     ]
    }
   ],
   "source": [
    "print(page_rewiew)"
   ]
  },
  {
   "cell_type": "code",
   "execution_count": 24,
   "metadata": {},
   "outputs": [
    {
     "name": "stdout",
     "output_type": "stream",
     "text": [
      "1\n"
     ]
    }
   ],
   "source": [
    "if not dropdown_bs.find('select', attrs={\"class\":\"pagination__pages__selector\"}):\n",
    "    print(1)"
   ]
  },
  {
   "cell_type": "code",
   "execution_count": null,
   "metadata": {
    "scrolled": true
   },
   "outputs": [
    {
     "name": "stdout",
     "output_type": "stream",
     "text": [
      "Using web page from internet...\n",
      "University of Pennsylvania Academics 6\n",
      "finally\n",
      "finally\n",
      "finally\n",
      "finally\n",
      "finally\n",
      "finally\n",
      "finally\n",
      "finally\n",
      "finally\n",
      "finally\n",
      "finally\n",
      "finally\n",
      "finally\n",
      "finally\n",
      "finally\n",
      "finally\n",
      "finally\n",
      "finally\n",
      "finally\n",
      "finally\n",
      "finally\n",
      "finally\n",
      "finally\n",
      "finally\n",
      "finally\n",
      "finally\n",
      "finally\n",
      "finally\n",
      "finally\n",
      "finally\n",
      "finally\n",
      "finally\n",
      "finally\n",
      "finally\n",
      "finally\n",
      "finally\n",
      "finally\n",
      "finally\n",
      "finally\n",
      "finally\n",
      "finally\n",
      "finally\n",
      "finally\n",
      "finally\n",
      "finally\n",
      "finally\n",
      "finally\n",
      "finally\n",
      "finally\n",
      "finally\n",
      "finally\n",
      "finally\n",
      "finally\n",
      "finally\n",
      "finally\n",
      "finally\n",
      "finally\n",
      "finally\n",
      "finally\n",
      "finally\n",
      "finally\n",
      "finally\n",
      "finally\n",
      "finally\n",
      "finally\n",
      "finally\n",
      "finally\n",
      "finally\n",
      "finally\n",
      "finally\n",
      "finally\n",
      "finally\n",
      "finally\n",
      "finally\n",
      "finally\n",
      "finally\n",
      "finally\n",
      "finally\n",
      "finally\n",
      "finally\n",
      "finally\n",
      "finally\n",
      "finally\n",
      "finally\n",
      "finally\n",
      "finally\n",
      "finally\n",
      "finally\n",
      "finally\n",
      "finally\n",
      "finally\n",
      "finally\n",
      "finally\n",
      "finally\n",
      "finally\n",
      "finally\n",
      "finally\n",
      "finally\n",
      "finally\n",
      "finally\n",
      "finally\n",
      "finally\n",
      "finally\n",
      "finally\n",
      "finally\n",
      "finally\n",
      "finally\n",
      "finally\n",
      "finally\n",
      "finally\n",
      "finally\n",
      "finally\n",
      "University of Pennsylvania Overall Experience 8\n",
      "finally\n",
      "finally\n",
      "finally\n",
      "finally\n",
      "finally\n",
      "finally\n",
      "finally\n",
      "finally\n",
      "finally\n",
      "finally\n",
      "finally\n",
      "finally\n",
      "finally\n",
      "finally\n",
      "finally\n",
      "finally\n",
      "finally\n",
      "finally\n",
      "finally\n",
      "finally\n",
      "finally\n",
      "finally\n",
      "finally\n",
      "finally\n",
      "finally\n",
      "finally\n",
      "finally\n",
      "finally\n",
      "finally\n",
      "finally\n",
      "finally\n",
      "finally\n",
      "finally\n",
      "finally\n",
      "finally\n",
      "finally\n",
      "finally\n",
      "finally\n",
      "finally\n",
      "finally\n",
      "finally\n",
      "finally\n",
      "finally\n",
      "finally\n",
      "finally\n",
      "finally\n",
      "finally\n",
      "finally\n",
      "finally\n",
      "finally\n",
      "finally\n",
      "finally\n",
      "finally\n",
      "finally\n",
      "finally\n",
      "finally\n",
      "finally\n",
      "finally\n",
      "finally\n",
      "finally\n",
      "finally\n",
      "finally\n",
      "finally\n",
      "finally\n",
      "finally\n",
      "finally\n",
      "finally\n",
      "finally\n",
      "finally\n",
      "finally\n",
      "finally\n",
      "finally\n",
      "finally\n",
      "finally\n",
      "finally\n",
      "finally\n",
      "finally\n",
      "finally\n",
      "finally\n",
      "finally\n",
      "finally\n",
      "finally\n",
      "finally\n",
      "finally\n",
      "finally\n",
      "finally\n",
      "finally\n",
      "finally\n",
      "finally\n",
      "finally\n",
      "finally\n",
      "finally\n",
      "finally\n",
      "finally\n",
      "finally\n",
      "finally\n",
      "finally\n",
      "finally\n",
      "finally\n",
      "finally\n",
      "finally\n",
      "finally\n",
      "finally\n",
      "finally\n",
      "finally\n",
      "finally\n",
      "finally\n",
      "finally\n",
      "finally\n",
      "finally\n",
      "finally\n",
      "finally\n",
      "finally\n",
      "finally\n",
      "finally\n",
      "finally\n",
      "finally\n",
      "finally\n",
      "finally\n",
      "finally\n",
      "finally\n",
      "finally\n",
      "finally\n",
      "finally\n",
      "finally\n",
      "finally\n",
      "finally\n",
      "finally\n",
      "finally\n",
      "finally\n",
      "finally\n",
      "finally\n",
      "finally\n",
      "finally\n",
      "finally\n",
      "finally\n",
      "finally\n",
      "finally\n",
      "finally\n",
      "finally\n",
      "finally\n",
      "finally\n",
      "finally\n",
      "finally\n",
      "University of Pennsylvania Value 4\n",
      "finally\n",
      "finally\n",
      "finally\n",
      "finally\n",
      "finally\n",
      "finally\n",
      "finally\n",
      "finally\n",
      "finally\n",
      "finally\n",
      "finally\n",
      "finally\n",
      "finally\n",
      "finally\n",
      "finally\n",
      "finally\n",
      "finally\n",
      "finally\n",
      "finally\n",
      "finally\n",
      "finally\n",
      "finally\n",
      "finally\n",
      "finally\n",
      "finally\n",
      "finally\n",
      "finally\n",
      "finally\n",
      "finally\n",
      "finally\n",
      "finally\n",
      "finally\n"
     ]
    }
   ],
   "source": [
    "for page in site_links[6:]:\n",
    "    page_rewiew=page+'reviews/'\n",
    "    page_rewiew_cache=cache_function(page_rewiew)\n",
    "    page_rewiew_cache_bs= BeautifulSoup(page_rewiew_cache, \"html.parser\")\n",
    "    name_uni = page_rewiew_cache_bs.find('a', attrs={\"class\":\"entity-name__link\"}).get_text()\n",
    "    \n",
    "    for category in categories:\n",
    "        page_rewiew_category=page_rewiew+'?category='+category\n",
    "        #print(page_rewiew_category)\n",
    "        #page_rewiew_category_cache=cache_function(page_rewiew_category)\n",
    "        \n",
    "        browser.get(page_rewiew)\n",
    "        time.sleep(1)\n",
    "        \n",
    "        dropdown = Select(browser.find_element_by_css_selector(\".review-categories\")).select_by_value(category)#.click()\n",
    "        time.sleep(1)\n",
    "        dropdown_bs=BeautifulSoup(browser.page_source, \"html.parser\")\n",
    "        #time.sleep(10)\n",
    "        #browser.get(page_rewiew_category)\n",
    "        #page_rewiew_category_cache_bs= BeautifulSoup(browser.page_source, \"html.parser\")\n",
    "        #page_rewiew_category_cache_bs= BeautifulSoup(page_rewiew_category_cache, \"html.parser\")\n",
    "        if dropdown_bs.find('select', attrs={\"class\":\"pagination__pages__selector\"}):\n",
    "            max_page = int(dropdown_bs.find('select', attrs={\"class\":\"pagination__pages__selector\"}).find_all('option')[-1].attrs['value'])\n",
    "        else:\n",
    "            max_page = 1\n",
    "        print(name_uni, category, max_page)\n",
    "        for i in range(1, max_page+1):\n",
    "            if i > 1:\n",
    "                browser.find_element_by_css_selector('.icon-arrowright-thin--pagination').click()\n",
    "                time.sleep(1)\n",
    "            \n",
    "            site_bs= BeautifulSoup(browser.page_source, \"html.parser\")\n",
    "            site_reviews=site_bs.find_all('div', attrs={\"class\":\"review\"})\n",
    "            for site_review in site_reviews:\n",
    "                #article_meta_data = collections.OrderedDict()\n",
    "                #article_meta_data['article_url'] = site_title.find('a', attrs={\"class\":\"readmore\"}).get('href')\n",
    "                # Херачим в него рейтинг отзыва\n",
    "                #if np.in1d(list(dict_stars.keys()), page_article_bs.find(\"div\", attrs={\"id\": \"wide\"}).attrs['class'][-1]).sum()!=0:\n",
    "                #            review_stars = dict_stars[page_article_bs.find(\"div\", attrs={\"id\": \"wide\"}).attrs['class'][-1]]#page_article_bs.find_all('div', attrs={\"class\":\"snapshot\"})[-1].find('span').get_text()\n",
    "                #            #print(review_stars)\n",
    "                #else:\n",
    "                #    review_stars = dict_stars['neutral'] ratingValue\n",
    "\n",
    "                if site_review.find('meta', attrs={\"itemprop\":\"ratingValue\"}):\n",
    "                    review_stars=site_review.find('meta', attrs={\"itemprop\":\"ratingValue\"}).attrs['content']\n",
    "                    #article_meta_data['review_stars'] =site_title.find('meta', attrs={\"itemprop\":\"ratingValue\"}).attrs['content']\n",
    "                    #print(site_title.find('meta', attrs={\"itemprop\":\"datePublished\"}).attrs['content'])\n",
    "                else:\n",
    "                    review_stars=0\n",
    "                    #article_meta_data['review_stars']=0\n",
    "\n",
    "                if site_review.find('meta', attrs={\"itemprop\":\"datePublished\"}):\n",
    "                    article_date =site_review.find('meta', attrs={\"itemprop\":\"datePublished\"}).attrs['content']\n",
    "                    #article_meta_data['article_date'] =site_title.find('meta', attrs={\"itemprop\":\"datePublished\"}).attrs['content']\n",
    "                    #print(site_title.find('meta', attrs={\"itemprop\":\"datePublished\"}).attrs['content'])\n",
    "                else:\n",
    "                    article_date = datetime.today().strftime('%Y-%m-%d') #site_title.find('meta', attrs={\"itemprop\":\"datePublished\"}).attrs['content']\n",
    "                    #article_meta_data['article_date']=datetime.today().strftime('%Y-%m-%d')\n",
    "                \n",
    "                if site_review.find(\"div\", attrs={\"itemprop\": \"reviewBody\"}):\n",
    "                    article_content=site_review.find(\"div\", attrs={\"itemprop\": \"reviewBody\"}).get_text()\n",
    "                else:\n",
    "                    article_content = 'no_review_text'\n",
    "                    \n",
    "                emoji_pattern = re.compile(\"[\"\n",
    "                                                u\"\\U0001F600-\\U0001F64F\"  # emoticons\n",
    "                                                u\"\\U0001F300-\\U0001F5FF\"  # symbols & pictographs\n",
    "                                                u\"\\U0001F680-\\U0001F6FF\"  # transport & map symbols\n",
    "                                                u\"\\U0001F1E0-\\U0001F1FF\"  # flags (iOS)\n",
    "                                                   \"]+\", flags=re.UNICODE)\n",
    "                article_content = emoji_pattern.sub(r'', article_content)\n",
    "                #article_meta_data['article_text']=article_content\n",
    "                #articles_data.append(article_meta_data)\n",
    "                if len(re.split('(?<=[.!?]) +',article_content.replace(\"\\n\", \"\")))>1:\n",
    "                    article_title=re.split('(?<=[.!?]) +',article_content.replace(\"\\n\", \"\"))[0]\n",
    "                else:\n",
    "                    article_title=re.split('(?<=[.!?]) +',article_content.replace(\"\\n\", \"\"))\n",
    "                try:\n",
    "                    with connection.cursor() as cursor:\n",
    "                            # Create a new record\n",
    "                            #INSERT INTO `article` (`article_title`, `article_text`, `article_url`, `article_categories`) VALUES (%s, %s, %s, 'null');\n",
    "                            sql = '''\n",
    "                                INSERT INTO `article` \n",
    "                                (`article_pub_date`, `article_title`, `article_text`, \n",
    "                                `article_url`, `article_rating`, `article_uni`, `uni_site_id`)\n",
    "                                VALUES (%s, %s, %s,%s, %s, %s, %s);\n",
    "                                '''\n",
    "\n",
    "                            #sql=\"INSERT INTO `article` (`article_pub_date`, `article_title`, `article_text`, `article_url`, `article_rating`, `article_uni`, `uni_site_id`) VALUES ('\"+article['article_date']+\"','\"+article['article_title']+ \"', '\"+article_content+\"', '\"+article['article_url']+\"', 'null', 'null',null');\"\n",
    "\n",
    "                            #ins=\n",
    "                            cursor.execute(sql, (str(pd.to_datetime(article_date)),article_title, article_content, page_rewiew_category, review_stars,name_uni,0))\n",
    "                            #cursor.execute(sql)\n",
    "                            # connection is not autocommit by default. So you must commit to save\n",
    "                            # your changes.\n",
    "                            connection.commit()\n",
    "                finally:\n",
    "                     print('finally')"
   ]
  }
 ],
 "metadata": {
  "kernelspec": {
   "display_name": "Python 3",
   "language": "python",
   "name": "python3"
  },
  "language_info": {
   "codemirror_mode": {
    "name": "ipython",
    "version": 3
   },
   "file_extension": ".py",
   "mimetype": "text/x-python",
   "name": "python",
   "nbconvert_exporter": "python",
   "pygments_lexer": "ipython3",
   "version": "3.6.1"
  }
 },
 "nbformat": 4,
 "nbformat_minor": 2
}
