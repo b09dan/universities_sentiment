{
 "cells": [
  {
   "cell_type": "code",
   "execution_count": 1,
   "metadata": {
    "collapsed": true
   },
   "outputs": [],
   "source": [
    "from urllib.request import urlopen  # Library for urlopen\n",
    "from bs4 import BeautifulSoup  # Library for html parser (scraper), lxml is also nice\n",
    "import pandas as pd\n",
    "import re\n",
    "import sys\n",
    "sys.path.append('..') \n",
    "from uni_cache.cache_function import cache_function\n",
    "import pymysql\n",
    "import collections\n",
    "import mysql_credits"
   ]
  },
  {
   "cell_type": "code",
   "execution_count": 2,
   "metadata": {
    "collapsed": true
   },
   "outputs": [],
   "source": [
    "# This folder should be edited according to this project path on yours computer\n",
    "project_folder = '/home/bogdan/PycharmProjects/universities_sentiment/'\n",
    "cache_folder = project_folder + 'cache/'\n",
    "site = 'https://www.whatuni.com/university-course-reviews/university-of-oxford/3757/'\n",
    "\n",
    "\n",
    "connection = pymysql.connect(\n",
    "    host=mysql_credits.db_host,\n",
    "    user=mysql_credits.db_user,\n",
    "    password=mysql_credits.db_password,\n",
    "    db=mysql_credits.db,\n",
    "    charset='utf8mb4',\n",
    "    cursorclass=pymysql.cursors.DictCursor\n",
    ")\n"
   ]
  },
  {
   "cell_type": "code",
   "execution_count": null,
   "metadata": {
    "collapsed": true
   },
   "outputs": [],
   "source": []
  }
 ],
 "metadata": {
  "kernelspec": {
   "display_name": "Python 3",
   "language": "python",
   "name": "python3"
  },
  "language_info": {
   "codemirror_mode": {
    "name": "ipython",
    "version": 3
   },
   "file_extension": ".py",
   "mimetype": "text/x-python",
   "name": "python",
   "nbconvert_exporter": "python",
   "pygments_lexer": "ipython3",
   "version": "3.6.1"
  }
 },
 "nbformat": 4,
 "nbformat_minor": 2
}
