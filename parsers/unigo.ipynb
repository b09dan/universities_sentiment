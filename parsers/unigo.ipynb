{
 "cells": [
  {
   "cell_type": "code",
   "execution_count": 1,
   "metadata": {
    "collapsed": true
   },
   "outputs": [],
   "source": [
    "from urllib.request import urlopen  # Library for urlopen\n",
    "from bs4 import BeautifulSoup  # Library for html parser (scraper), lxml is also nice\n",
    "import pandas as pd\n",
    "import re\n",
    "import sys\n",
    "sys.path.append('..') \n",
    "from uni_cache.cache_function import cache_function\n",
    "import pymysql\n",
    "import collections\n",
    "import mysql_credits"
   ]
  },
  {
   "cell_type": "markdown",
   "metadata": {},
   "source": [
    "http://www.stexx.eu/search/?q=ln-3&start=60&length=10"
   ]
  },
  {
   "cell_type": "markdown",
   "metadata": {},
   "source": [
    "https://www.guidetoonlineschools.com/online-reviews?sort=review_count&dir=desc"
   ]
  },
  {
   "cell_type": "markdown",
   "metadata": {},
   "source": [
    "https://www.unigo.com/colleges/harvard-university/4"
   ]
  },
  {
   "cell_type": "code",
   "execution_count": 2,
   "metadata": {
    "collapsed": true
   },
   "outputs": [],
   "source": [
    "# This folder should be edited according to this project path on yours computer\n",
    "project_folder = '/home/bogdan/PycharmProjects/universities_sentiment/'\n",
    "cache_folder = project_folder + 'cache/'\n",
    "site = 'https://www.unigo.com/colleges/harvard-university'\n",
    "\n",
    "\n",
    "connection = pymysql.connect(\n",
    "    host=mysql_credits.db_host,\n",
    "    user=mysql_credits.db_user,\n",
    "    password=mysql_credits.db_password,\n",
    "    db=mysql_credits.db,\n",
    "    charset='utf8mb4',\n",
    "    cursorclass=pymysql.cursors.DictCursor\n",
    ")\n"
   ]
  },
  {
   "cell_type": "code",
   "execution_count": null,
   "metadata": {
    "collapsed": true
   },
   "outputs": [],
   "source": [
    "def parsing_function(site_tree):\n",
    "    # Преобразовываем файл к объектному типу библиотеки BeautifulSoup\n",
    "    site_bs = BeautifulSoup(site_tree, \"html.parser\")\n",
    "    # Ищем все вхождения ссылок с главной страницы на статьи\n",
    "    site_reviews = site_bs.find_all('div', attrs={\"class\":\"minicard\"})\n",
    "    articles_data = []\n",
    "    for site_review in site_reviews:\n",
    "        # Создаём что-то вроде ассоциативного массива\n",
    "        article_meta_data = collections.OrderedDict()\n",
    "        # Херачим в него текст отзывов\n",
    "        if site_review.find(\"div\", attrs={\"class\": \"show-on-open\"}):\n",
    "            article_meta_data['review_text'] = site_review.find(\"div\", attrs={\"class\": \"show-on-open\"}).find(\"p\").get_text()\n",
    "        else:\n",
    "            article_meta_data['review_text'] = 'no_review_text'\n",
    "        # Херачим в него рейтинг отзыва\n",
    "        article_meta_data['review_stars'] = int(site_review.find('div', class_=\"starCount\").attrs['style'][1].replace('stars--lg--', ''))\n",
    "        # Херачим в него дату отзыва\n",
    "        article_meta_data['review_date'] = site_review.find(\"meta\", attrs={\"itemprop\": \"datePublished\"}).attrs['content']\n",
    "        # Вкорячиваем этот \"ассоциативный массив\" в просто массив\n",
    "        articles_data.append(article_meta_data)\n",
    "    return articles_data"
   ]
  },
  {
   "cell_type": "code",
   "execution_count": 6,
   "metadata": {},
   "outputs": [
    {
     "name": "stdout",
     "output_type": "stream",
     "text": [
      "https://www.unigo.com/colleges/harvard-university\n"
     ]
    }
   ],
   "source": [
    "with open('UK.txt', 'r', encoding='windows-1251') as f:\n",
    "    content = f.read().splitlines()\n",
    "print(content[0])"
   ]
  },
  {
   "cell_type": "code",
   "execution_count": 9,
   "metadata": {},
   "outputs": [
    {
     "name": "stdout",
     "output_type": "stream",
     "text": [
      "Using web page from cache...\n"
     ]
    }
   ],
   "source": [
    "main_site=cache_function(content[0])"
   ]
  },
  {
   "cell_type": "code",
   "execution_count": 27,
   "metadata": {
    "collapsed": true
   },
   "outputs": [],
   "source": [
    "site_reviews = BeautifulSoup(main_site, \"html.parser\").find_all('div', attrs={\"class\":\"minicard\"})"
   ]
  },
  {
   "cell_type": "code",
   "execution_count": 42,
   "metadata": {},
   "outputs": [
    {
     "data": {
      "text/plain": [
       "[\"\\\\'width:\\\\'width:\\\\'width:\\\\'width:\\\\'width:\\\\'width:\\\\'width:\\\\'width:\\\\'width:\\\\'width:\"]"
      ]
     },
     "execution_count": 42,
     "metadata": {},
     "output_type": "execute_result"
    }
   ],
   "source": [
    "dd_cln"
   ]
  },
  {
   "cell_type": "code",
   "execution_count": 40,
   "metadata": {},
   "outputs": [
    {
     "ename": "ValueError",
     "evalue": "dictionary update sequence element #0 has length 11; 2 is required",
     "output_type": "error",
     "traceback": [
      "\u001b[1;31m---------------------------------------------------------------------------\u001b[0m",
      "\u001b[1;31mValueError\u001b[0m                                Traceback (most recent call last)",
      "\u001b[1;32m<ipython-input-40-ba7fe4b03e1c>\u001b[0m in \u001b[0;36m<module>\u001b[1;34m()\u001b[0m\n\u001b[0;32m      4\u001b[0m \u001b[0mdd_cln\u001b[0m\u001b[1;33m=\u001b[0m \u001b[0mfilter\u001b[0m\u001b[1;33m(\u001b[0m\u001b[1;32mNone\u001b[0m\u001b[1;33m,\u001b[0m \u001b[0mdd\u001b[0m\u001b[1;33m)\u001b[0m\u001b[1;33m\u001b[0m\u001b[0m\n\u001b[0;32m      5\u001b[0m \u001b[0mdd_cln\u001b[0m\u001b[1;33m=\u001b[0m \u001b[1;33m[\u001b[0m\u001b[0mi\u001b[0m\u001b[1;33m.\u001b[0m\u001b[0mstrip\u001b[0m\u001b[1;33m(\u001b[0m\u001b[1;33m)\u001b[0m \u001b[1;32mfor\u001b[0m \u001b[0mi\u001b[0m \u001b[1;32min\u001b[0m \u001b[0mdd_cln\u001b[0m \u001b[1;33m]\u001b[0m\u001b[1;33m\u001b[0m\u001b[0m\n\u001b[1;32m----> 6\u001b[1;33m \u001b[0mmy_dict\u001b[0m \u001b[1;33m=\u001b[0m \u001b[0mdict\u001b[0m\u001b[1;33m(\u001b[0m\u001b[0mi\u001b[0m\u001b[1;33m.\u001b[0m\u001b[0msplit\u001b[0m\u001b[1;33m(\u001b[0m\u001b[1;34m':'\u001b[0m\u001b[1;33m)\u001b[0m \u001b[1;32mfor\u001b[0m \u001b[0mi\u001b[0m  \u001b[1;32min\u001b[0m \u001b[0mdd_cln\u001b[0m\u001b[1;33m)\u001b[0m\u001b[1;33m\u001b[0m\u001b[0m\n\u001b[0m\u001b[0;32m      7\u001b[0m \u001b[0mprint\u001b[0m \u001b[1;33m(\u001b[0m\u001b[0mmy_dict\u001b[0m\u001b[1;33m[\u001b[0m\u001b[1;34m'width'\u001b[0m\u001b[1;33m]\u001b[0m\u001b[1;33m)\u001b[0m\u001b[1;33m\u001b[0m\u001b[0m\n",
      "\u001b[1;31mValueError\u001b[0m: dictionary update sequence element #0 has length 11; 2 is required"
     ]
    }
   ],
   "source": [
    "#soup = BeautifulSoup(html_doc,'html.parser')    \n",
    "my_att = [i.find('div', class_=\"starCount\").attrs['style'] for  i in site_reviews]\n",
    "dd = ''.join(my_att).split(\";\")\n",
    "dd_cln= filter(None, dd)\n",
    "dd_cln= [i.strip() for i in dd_cln ]\n",
    "my_dict = dict(i.split(':') for i  in dd_cln)\n",
    "print (my_dict['width'])"
   ]
  },
  {
   "cell_type": "code",
   "execution_count": 56,
   "metadata": {},
   "outputs": [],
   "source": [
    "site_reviews[0].find('div', attrs={'style':'width:100%'})"
   ]
  },
  {
   "cell_type": "code",
   "execution_count": 21,
   "metadata": {},
   "outputs": [
    {
     "data": {
      "text/plain": [
       "25"
      ]
     },
     "execution_count": 21,
     "metadata": {},
     "output_type": "execute_result"
    }
   ],
   "source": [
    "int(BeautifulSoup(main_site, \"html.parser\").find('li', attrs={\"class\":\"PagedList-skipToLast\"}).find('a').get('href')[BeautifulSoup(main_site, \"html.parser\").find('li', attrs={\"class\":\"PagedList-skipToLast\"}).find('a').get('href').rfind('/')+1:])"
   ]
  },
  {
   "cell_type": "code",
   "execution_count": null,
   "metadata": {
    "collapsed": true
   },
   "outputs": [],
   "source": [
    "=re.sub(' +',' ', site_title.find('em').get_text().replace(\"\\\\n\", \"\")) "
   ]
  },
  {
   "cell_type": "code",
   "execution_count": 26,
   "metadata": {},
   "outputs": [
    {
     "data": {
      "text/plain": [
       "' Cambridge, MA Harvard University '"
      ]
     },
     "execution_count": 26,
     "metadata": {},
     "output_type": "execute_result"
    }
   ],
   "source": [
    "re.sub(' +',' ', BeautifulSoup(main_site, \"html.parser\").find('h1', attrs={\"class\":\"hero-full__content--titleText titleText collegePage\"}).get_text().replace(\"\\\\n\", \"\").replace(\"\\\\r\", \"\")) "
   ]
  },
  {
   "cell_type": "code",
   "execution_count": null,
   "metadata": {
    "collapsed": true
   },
   "outputs": [],
   "source": [
    "dict_uni={}"
   ]
  },
  {
   "cell_type": "code",
   "execution_count": null,
   "metadata": {
    "collapsed": true
   },
   "outputs": [],
   "source": [
    "n=1\n",
    "for uni in content:\n",
    "    # Преобразовываем файл к объектному типу библиотеки BeautifulSoup\n",
    "    site = uni\n",
    "    main_site=cache_function(site)\n",
    "    max_page = int(BeautifulSoup(main_site, \"html.parser\").find('li', attrs={\"class\":\"PagedList-skipToLast\"}).find('a').get('href')[BeautifulSoup(main_site, \"html.parser\").find('li', attrs={\"class\":\"PagedList-skipToLast\"}).find('a').get('href').rfind('/')+1:])\n",
    "    name_uni = BeautifulSoup(main_site, \"html.parser\").find('h1', attrs={\"class\":\"hero-full__content--titleText titleText collegePage\"}).get_text()\n",
    "    dict_uni[name_uni]=n\n",
    "    max_page=int(max_page)\n",
    "    print(max_page)\n",
    "    for i in range(1,max_page+1):\n",
    "        site_news_section = '?pageno='+str(i)\n",
    "        site_tree = cache_function(site + site_news_section)\n",
    "        articles = parsing_function(site_tree)\n",
    "        dict_uni[name_uni]=n\n",
    "        print(len(articles))\n",
    "        for article in articles:\n",
    "            site_tree = cache_function(article['article_url'])\n",
    "            print()\n",
    "            page_article_bs = BeautifulSoup(site_tree, \"html.parser\")\n",
    "            #page_article = page_article_bs.find_all('div', class_='field-item even')\n",
    "            if page_article_bs.find(\"div\", attrs={\"id\": \"wide\"}):\n",
    "                article_content = page_article_bs.find(\"div\", attrs={\"id\": \"wide\"}).get_text()\n",
    "                #print(article_content)\n",
    "            else:\n",
    "                article_content = 'no_review_text'\n",
    "             # Херачим в него рейтинг отзыва\n",
    "            if page_article_bs.find(\"div\", attrs={\"id\": \"wide\"}):\n",
    "                review_stars = dict_stars[page_article_bs.find(\"div\", attrs={\"id\": \"wide\"}).attrs['class'][-1]]#page_article_bs.find_all('div', attrs={\"class\":\"snapshot\"})[-1].find('span').get_text()\n",
    "                print(review_stars)\n",
    "            else:\n",
    "                review_stars = 'no_review_stars'\n",
    "\n",
    "            try:\n",
    "                with connection.cursor() as cursor:\n",
    "                    # Create a new record\n",
    "                    #INSERT INTO `article` (`article_title`, `article_text`, `article_url`, `article_categories`) VALUES (%s, %s, %s, 'null');\n",
    "                    sql = '''\n",
    "                    INSERT INTO `article` \n",
    "                    (`article_pub_date`, `article_title`, `article_text`, \n",
    "                    `article_url`, `article_rating`, `article_uni`, `uni_site_id`)\n",
    "                    VALUES (%s, %s, %s,%s, %s, %s, %s);\n",
    "                    '''\n",
    "\n",
    "                    #sql=\"INSERT INTO `article` (`article_pub_date`, `article_title`, `article_text`, `article_url`, `article_rating`, `article_uni`, `uni_site_id`) VALUES ('\"+article['article_date']+\"','\"+article['article_title']+ \"', '\"+article_content+\"', '\"+article['article_url']+\"', 'null', 'null',null');\"\n",
    "\n",
    "                    #ins=\n",
    "                    cursor.execute(sql, (str(pd.to_datetime(article['article_date'])), article['article_title'], article_content, article['article_url'], review_stars,name_uni,0))\n",
    "                    #cursor.execute(sql)\n",
    "                # connection is not autocommit by default. So you must commit to save\n",
    "                # your changes.\n",
    "                connection.commit()\n",
    "            finally:\n",
    "                print('finally')\n",
    "    \n",
    "    n+=1\n"
   ]
  }
 ],
 "metadata": {
  "kernelspec": {
   "display_name": "Python 3",
   "language": "python",
   "name": "python3"
  },
  "language_info": {
   "codemirror_mode": {
    "name": "ipython",
    "version": 3
   },
   "file_extension": ".py",
   "mimetype": "text/x-python",
   "name": "python",
   "nbconvert_exporter": "python",
   "pygments_lexer": "ipython3",
   "version": "3.6.1"
  }
 },
 "nbformat": 4,
 "nbformat_minor": 2
}
